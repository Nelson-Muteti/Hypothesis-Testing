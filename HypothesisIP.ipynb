{
  "nbformat": 4,
  "nbformat_minor": 0,
  "metadata": {
    "colab": {
      "name": "HypothesisIP.ipynb",
      "provenance": [],
      "toc_visible": true,
      "authorship_tag": "ABX9TyOHL+VeCFSg6uSDgeaBFpKI",
      "include_colab_link": true
    },
    "kernelspec": {
      "name": "python3",
      "display_name": "Python 3"
    },
    "language_info": {
      "name": "python"
    }
  },
  "cells": [
    {
      "cell_type": "markdown",
      "metadata": {
        "id": "view-in-github",
        "colab_type": "text"
      },
      "source": [
        "<a href=\"https://colab.research.google.com/github/Nelson-Muteti/Hypothesis-Testing/blob/main/HypothesisIP.ipynb\" target=\"_parent\"><img src=\"https://colab.research.google.com/assets/colab-badge.svg\" alt=\"Open In Colab\"/></a>"
      ]
    },
    {
      "cell_type": "markdown",
      "metadata": {
        "id": "-f5MX5eNalm3"
      },
      "source": [
        "## Import Libraries"
      ]
    },
    {
      "cell_type": "code",
      "metadata": {
        "id": "YhhEV73zX189"
      },
      "source": [
        "#importing necessary libraries\n",
        "import pandas as pd\n",
        "import numpy as np\n",
        "import matplotlib.pyplot as plt\n",
        "import seaborn as sns"
      ],
      "execution_count": 59,
      "outputs": []
    },
    {
      "cell_type": "markdown",
      "metadata": {
        "id": "BxVbB4NtavK3"
      },
      "source": [
        "## Read / Verify Data"
      ]
    },
    {
      "cell_type": "code",
      "metadata": {
        "id": "ELHrni8QYUFh"
      },
      "source": [
        "#reading the data\n",
        "url = '/content/autolib_daily_events_postal_code.csv'\n",
        "df = pd.read_csv(url)\n",
        "url1 = '/content/columns_explanation.xlsx'\n",
        "glossary = pd.read_excel(url1)"
      ],
      "execution_count": 60,
      "outputs": []
    },
    {
      "cell_type": "code",
      "metadata": {
        "colab": {
          "base_uri": "https://localhost:8080/",
          "height": 241
        },
        "id": "LYYGh0imYmBM",
        "outputId": "a3aa2d98-b7b7-4471-e9bb-77bdb1f74eb8"
      },
      "source": [
        "#checking the data\n",
        "df.head()"
      ],
      "execution_count": 61,
      "outputs": [
        {
          "output_type": "execute_result",
          "data": {
            "text/html": [
              "<div>\n",
              "<style scoped>\n",
              "    .dataframe tbody tr th:only-of-type {\n",
              "        vertical-align: middle;\n",
              "    }\n",
              "\n",
              "    .dataframe tbody tr th {\n",
              "        vertical-align: top;\n",
              "    }\n",
              "\n",
              "    .dataframe thead th {\n",
              "        text-align: right;\n",
              "    }\n",
              "</style>\n",
              "<table border=\"1\" class=\"dataframe\">\n",
              "  <thead>\n",
              "    <tr style=\"text-align: right;\">\n",
              "      <th></th>\n",
              "      <th>Postal code</th>\n",
              "      <th>date</th>\n",
              "      <th>n_daily_data_points</th>\n",
              "      <th>dayOfWeek</th>\n",
              "      <th>day_type</th>\n",
              "      <th>BlueCars_taken_sum</th>\n",
              "      <th>BlueCars_returned_sum</th>\n",
              "      <th>Utilib_taken_sum</th>\n",
              "      <th>Utilib_returned_sum</th>\n",
              "      <th>Utilib_14_taken_sum</th>\n",
              "      <th>Utilib_14_returned_sum</th>\n",
              "      <th>Slots_freed_sum</th>\n",
              "      <th>Slots_taken_sum</th>\n",
              "    </tr>\n",
              "  </thead>\n",
              "  <tbody>\n",
              "    <tr>\n",
              "      <th>0</th>\n",
              "      <td>75001</td>\n",
              "      <td>1/1/2018</td>\n",
              "      <td>1440</td>\n",
              "      <td>0</td>\n",
              "      <td>weekday</td>\n",
              "      <td>110</td>\n",
              "      <td>103</td>\n",
              "      <td>3</td>\n",
              "      <td>2</td>\n",
              "      <td>10</td>\n",
              "      <td>9</td>\n",
              "      <td>22</td>\n",
              "      <td>20</td>\n",
              "    </tr>\n",
              "    <tr>\n",
              "      <th>1</th>\n",
              "      <td>75001</td>\n",
              "      <td>1/2/2018</td>\n",
              "      <td>1438</td>\n",
              "      <td>1</td>\n",
              "      <td>weekday</td>\n",
              "      <td>98</td>\n",
              "      <td>94</td>\n",
              "      <td>1</td>\n",
              "      <td>1</td>\n",
              "      <td>8</td>\n",
              "      <td>8</td>\n",
              "      <td>23</td>\n",
              "      <td>22</td>\n",
              "    </tr>\n",
              "    <tr>\n",
              "      <th>2</th>\n",
              "      <td>75001</td>\n",
              "      <td>1/3/2018</td>\n",
              "      <td>1439</td>\n",
              "      <td>2</td>\n",
              "      <td>weekday</td>\n",
              "      <td>138</td>\n",
              "      <td>139</td>\n",
              "      <td>0</td>\n",
              "      <td>0</td>\n",
              "      <td>2</td>\n",
              "      <td>2</td>\n",
              "      <td>27</td>\n",
              "      <td>27</td>\n",
              "    </tr>\n",
              "    <tr>\n",
              "      <th>3</th>\n",
              "      <td>75001</td>\n",
              "      <td>1/4/2018</td>\n",
              "      <td>1320</td>\n",
              "      <td>3</td>\n",
              "      <td>weekday</td>\n",
              "      <td>104</td>\n",
              "      <td>104</td>\n",
              "      <td>2</td>\n",
              "      <td>2</td>\n",
              "      <td>9</td>\n",
              "      <td>8</td>\n",
              "      <td>25</td>\n",
              "      <td>21</td>\n",
              "    </tr>\n",
              "    <tr>\n",
              "      <th>4</th>\n",
              "      <td>75001</td>\n",
              "      <td>1/5/2018</td>\n",
              "      <td>1440</td>\n",
              "      <td>4</td>\n",
              "      <td>weekday</td>\n",
              "      <td>114</td>\n",
              "      <td>117</td>\n",
              "      <td>3</td>\n",
              "      <td>3</td>\n",
              "      <td>6</td>\n",
              "      <td>6</td>\n",
              "      <td>18</td>\n",
              "      <td>20</td>\n",
              "    </tr>\n",
              "  </tbody>\n",
              "</table>\n",
              "</div>"
            ],
            "text/plain": [
              "   Postal code      date  ...  Slots_freed_sum  Slots_taken_sum\n",
              "0        75001  1/1/2018  ...               22               20\n",
              "1        75001  1/2/2018  ...               23               22\n",
              "2        75001  1/3/2018  ...               27               27\n",
              "3        75001  1/4/2018  ...               25               21\n",
              "4        75001  1/5/2018  ...               18               20\n",
              "\n",
              "[5 rows x 13 columns]"
            ]
          },
          "metadata": {
            "tags": []
          },
          "execution_count": 61
        }
      ]
    },
    {
      "cell_type": "code",
      "metadata": {
        "colab": {
          "base_uri": "https://localhost:8080/",
          "height": 204
        },
        "id": "X_pOx_uCaMda",
        "outputId": "32ef6348-f78f-4daf-942e-907ffbeb9b9f"
      },
      "source": [
        "#get the glossary\n",
        "glossary.head()"
      ],
      "execution_count": 62,
      "outputs": [
        {
          "output_type": "execute_result",
          "data": {
            "text/html": [
              "<div>\n",
              "<style scoped>\n",
              "    .dataframe tbody tr th:only-of-type {\n",
              "        vertical-align: middle;\n",
              "    }\n",
              "\n",
              "    .dataframe tbody tr th {\n",
              "        vertical-align: top;\n",
              "    }\n",
              "\n",
              "    .dataframe thead th {\n",
              "        text-align: right;\n",
              "    }\n",
              "</style>\n",
              "<table border=\"1\" class=\"dataframe\">\n",
              "  <thead>\n",
              "    <tr style=\"text-align: right;\">\n",
              "      <th></th>\n",
              "      <th>Column name</th>\n",
              "      <th>explanation</th>\n",
              "    </tr>\n",
              "  </thead>\n",
              "  <tbody>\n",
              "    <tr>\n",
              "      <th>0</th>\n",
              "      <td>Postal code</td>\n",
              "      <td>postal code of the area (in Paris)</td>\n",
              "    </tr>\n",
              "    <tr>\n",
              "      <th>1</th>\n",
              "      <td>date</td>\n",
              "      <td>date of the row aggregation</td>\n",
              "    </tr>\n",
              "    <tr>\n",
              "      <th>2</th>\n",
              "      <td>n_daily_data_points</td>\n",
              "      <td>number of daily data poinst that were availabl...</td>\n",
              "    </tr>\n",
              "    <tr>\n",
              "      <th>3</th>\n",
              "      <td>dayOfWeek</td>\n",
              "      <td>identifier of weekday (0: Monday -&gt; 6: Sunday)</td>\n",
              "    </tr>\n",
              "    <tr>\n",
              "      <th>4</th>\n",
              "      <td>day_type</td>\n",
              "      <td>weekday or weekend</td>\n",
              "    </tr>\n",
              "  </tbody>\n",
              "</table>\n",
              "</div>"
            ],
            "text/plain": [
              "           Column name                                        explanation\n",
              "0          Postal code                 postal code of the area (in Paris)\n",
              "1                 date                        date of the row aggregation\n",
              "2  n_daily_data_points  number of daily data poinst that were availabl...\n",
              "3            dayOfWeek     identifier of weekday (0: Monday -> 6: Sunday)\n",
              "4             day_type                                 weekday or weekend"
            ]
          },
          "metadata": {
            "tags": []
          },
          "execution_count": 62
        }
      ]
    },
    {
      "cell_type": "code",
      "metadata": {
        "colab": {
          "base_uri": "https://localhost:8080/"
        },
        "id": "6RwJIJE0aZ5u",
        "outputId": "15cc7903-b1a1-4f23-d373-9ca6fdd8aa62"
      },
      "source": [
        "#more data checking\n",
        "df.shape"
      ],
      "execution_count": 63,
      "outputs": [
        {
          "output_type": "execute_result",
          "data": {
            "text/plain": [
              "(16085, 13)"
            ]
          },
          "metadata": {
            "tags": []
          },
          "execution_count": 63
        }
      ]
    },
    {
      "cell_type": "code",
      "metadata": {
        "colab": {
          "base_uri": "https://localhost:8080/"
        },
        "id": "NDtWH18zcrix",
        "outputId": "a8afc956-10b6-4759-c15a-2e8afca5bd3c"
      },
      "source": [
        "#understand column data types\n",
        "df.info()"
      ],
      "execution_count": 64,
      "outputs": [
        {
          "output_type": "stream",
          "text": [
            "<class 'pandas.core.frame.DataFrame'>\n",
            "RangeIndex: 16085 entries, 0 to 16084\n",
            "Data columns (total 13 columns):\n",
            " #   Column                  Non-Null Count  Dtype \n",
            "---  ------                  --------------  ----- \n",
            " 0   Postal code             16085 non-null  int64 \n",
            " 1   date                    16085 non-null  object\n",
            " 2   n_daily_data_points     16085 non-null  int64 \n",
            " 3   dayOfWeek               16085 non-null  int64 \n",
            " 4   day_type                16085 non-null  object\n",
            " 5   BlueCars_taken_sum      16085 non-null  int64 \n",
            " 6   BlueCars_returned_sum   16085 non-null  int64 \n",
            " 7   Utilib_taken_sum        16085 non-null  int64 \n",
            " 8   Utilib_returned_sum     16085 non-null  int64 \n",
            " 9   Utilib_14_taken_sum     16085 non-null  int64 \n",
            " 10  Utilib_14_returned_sum  16085 non-null  int64 \n",
            " 11  Slots_freed_sum         16085 non-null  int64 \n",
            " 12  Slots_taken_sum         16085 non-null  int64 \n",
            "dtypes: int64(11), object(2)\n",
            "memory usage: 1.6+ MB\n"
          ],
          "name": "stdout"
        }
      ]
    },
    {
      "cell_type": "code",
      "metadata": {
        "colab": {
          "base_uri": "https://localhost:8080/",
          "height": 317
        },
        "id": "-qC03dI2cxnx",
        "outputId": "98540b0b-12f7-41aa-e25f-af6b40e46b21"
      },
      "source": [
        "#get numerical and descriptive stats about data\n",
        "df.describe()"
      ],
      "execution_count": 65,
      "outputs": [
        {
          "output_type": "execute_result",
          "data": {
            "text/html": [
              "<div>\n",
              "<style scoped>\n",
              "    .dataframe tbody tr th:only-of-type {\n",
              "        vertical-align: middle;\n",
              "    }\n",
              "\n",
              "    .dataframe tbody tr th {\n",
              "        vertical-align: top;\n",
              "    }\n",
              "\n",
              "    .dataframe thead th {\n",
              "        text-align: right;\n",
              "    }\n",
              "</style>\n",
              "<table border=\"1\" class=\"dataframe\">\n",
              "  <thead>\n",
              "    <tr style=\"text-align: right;\">\n",
              "      <th></th>\n",
              "      <th>Postal code</th>\n",
              "      <th>n_daily_data_points</th>\n",
              "      <th>dayOfWeek</th>\n",
              "      <th>BlueCars_taken_sum</th>\n",
              "      <th>BlueCars_returned_sum</th>\n",
              "      <th>Utilib_taken_sum</th>\n",
              "      <th>Utilib_returned_sum</th>\n",
              "      <th>Utilib_14_taken_sum</th>\n",
              "      <th>Utilib_14_returned_sum</th>\n",
              "      <th>Slots_freed_sum</th>\n",
              "      <th>Slots_taken_sum</th>\n",
              "    </tr>\n",
              "  </thead>\n",
              "  <tbody>\n",
              "    <tr>\n",
              "      <th>count</th>\n",
              "      <td>16085.000000</td>\n",
              "      <td>16085.000000</td>\n",
              "      <td>16085.000000</td>\n",
              "      <td>16085.000000</td>\n",
              "      <td>16085.000000</td>\n",
              "      <td>16085.000000</td>\n",
              "      <td>16085.000000</td>\n",
              "      <td>16085.000000</td>\n",
              "      <td>16085.000000</td>\n",
              "      <td>16085.000000</td>\n",
              "      <td>16085.000000</td>\n",
              "    </tr>\n",
              "    <tr>\n",
              "      <th>mean</th>\n",
              "      <td>88791.293876</td>\n",
              "      <td>1431.330619</td>\n",
              "      <td>2.969599</td>\n",
              "      <td>125.926951</td>\n",
              "      <td>125.912714</td>\n",
              "      <td>3.698290</td>\n",
              "      <td>3.699099</td>\n",
              "      <td>8.600560</td>\n",
              "      <td>8.599192</td>\n",
              "      <td>22.629033</td>\n",
              "      <td>22.629282</td>\n",
              "    </tr>\n",
              "    <tr>\n",
              "      <th>std</th>\n",
              "      <td>7647.342000</td>\n",
              "      <td>33.212050</td>\n",
              "      <td>2.008378</td>\n",
              "      <td>185.426579</td>\n",
              "      <td>185.501535</td>\n",
              "      <td>5.815058</td>\n",
              "      <td>5.824634</td>\n",
              "      <td>12.870098</td>\n",
              "      <td>12.868993</td>\n",
              "      <td>52.120263</td>\n",
              "      <td>52.146030</td>\n",
              "    </tr>\n",
              "    <tr>\n",
              "      <th>min</th>\n",
              "      <td>75001.000000</td>\n",
              "      <td>1174.000000</td>\n",
              "      <td>0.000000</td>\n",
              "      <td>0.000000</td>\n",
              "      <td>0.000000</td>\n",
              "      <td>0.000000</td>\n",
              "      <td>0.000000</td>\n",
              "      <td>0.000000</td>\n",
              "      <td>0.000000</td>\n",
              "      <td>0.000000</td>\n",
              "      <td>0.000000</td>\n",
              "    </tr>\n",
              "    <tr>\n",
              "      <th>25%</th>\n",
              "      <td>91330.000000</td>\n",
              "      <td>1439.000000</td>\n",
              "      <td>1.000000</td>\n",
              "      <td>20.000000</td>\n",
              "      <td>20.000000</td>\n",
              "      <td>0.000000</td>\n",
              "      <td>0.000000</td>\n",
              "      <td>1.000000</td>\n",
              "      <td>1.000000</td>\n",
              "      <td>0.000000</td>\n",
              "      <td>0.000000</td>\n",
              "    </tr>\n",
              "    <tr>\n",
              "      <th>50%</th>\n",
              "      <td>92340.000000</td>\n",
              "      <td>1440.000000</td>\n",
              "      <td>3.000000</td>\n",
              "      <td>46.000000</td>\n",
              "      <td>46.000000</td>\n",
              "      <td>1.000000</td>\n",
              "      <td>1.000000</td>\n",
              "      <td>3.000000</td>\n",
              "      <td>3.000000</td>\n",
              "      <td>0.000000</td>\n",
              "      <td>0.000000</td>\n",
              "    </tr>\n",
              "    <tr>\n",
              "      <th>75%</th>\n",
              "      <td>93400.000000</td>\n",
              "      <td>1440.000000</td>\n",
              "      <td>5.000000</td>\n",
              "      <td>135.000000</td>\n",
              "      <td>135.000000</td>\n",
              "      <td>4.000000</td>\n",
              "      <td>4.000000</td>\n",
              "      <td>10.000000</td>\n",
              "      <td>10.000000</td>\n",
              "      <td>5.000000</td>\n",
              "      <td>5.000000</td>\n",
              "    </tr>\n",
              "    <tr>\n",
              "      <th>max</th>\n",
              "      <td>95880.000000</td>\n",
              "      <td>1440.000000</td>\n",
              "      <td>6.000000</td>\n",
              "      <td>1352.000000</td>\n",
              "      <td>1332.000000</td>\n",
              "      <td>54.000000</td>\n",
              "      <td>58.000000</td>\n",
              "      <td>100.000000</td>\n",
              "      <td>101.000000</td>\n",
              "      <td>360.000000</td>\n",
              "      <td>359.000000</td>\n",
              "    </tr>\n",
              "  </tbody>\n",
              "</table>\n",
              "</div>"
            ],
            "text/plain": [
              "        Postal code  n_daily_data_points  ...  Slots_freed_sum  Slots_taken_sum\n",
              "count  16085.000000         16085.000000  ...     16085.000000     16085.000000\n",
              "mean   88791.293876          1431.330619  ...        22.629033        22.629282\n",
              "std     7647.342000            33.212050  ...        52.120263        52.146030\n",
              "min    75001.000000          1174.000000  ...         0.000000         0.000000\n",
              "25%    91330.000000          1439.000000  ...         0.000000         0.000000\n",
              "50%    92340.000000          1440.000000  ...         0.000000         0.000000\n",
              "75%    93400.000000          1440.000000  ...         5.000000         5.000000\n",
              "max    95880.000000          1440.000000  ...       360.000000       359.000000\n",
              "\n",
              "[8 rows x 11 columns]"
            ]
          },
          "metadata": {
            "tags": []
          },
          "execution_count": 65
        }
      ]
    },
    {
      "cell_type": "markdown",
      "metadata": {
        "id": "-Iyj6fdBa8Oj"
      },
      "source": [
        "## Data Cleaning"
      ]
    },
    {
      "cell_type": "code",
      "metadata": {
        "colab": {
          "base_uri": "https://localhost:8080/",
          "height": 287
        },
        "id": "qyW86LEZd7At",
        "outputId": "d7252fc0-caad-4f12-aeb4-46de8feb4796"
      },
      "source": [
        "#now for some data cleaning\n",
        "#Check for outliers in Numerical data\n",
        "df.boxplot(column='BlueCars_taken_sum')\n",
        "#so many outliers here..may skew our data and mess our model"
      ],
      "execution_count": 66,
      "outputs": [
        {
          "output_type": "execute_result",
          "data": {
            "text/plain": [
              "<matplotlib.axes._subplots.AxesSubplot at 0x7f0ede61bdd0>"
            ]
          },
          "metadata": {
            "tags": []
          },
          "execution_count": 66
        },
        {
          "output_type": "display_data",
          "data": {
            "image/png": "[encoded data removed]",
            "text/plain": [
              "<Figure size 432x288 with 1 Axes>"
            ]
          },
          "metadata": {
            "tags": []
          }
        }
      ]
    },
    {
      "cell_type": "code",
      "metadata": {
        "colab": {
          "base_uri": "https://localhost:8080/",
          "height": 286
        },
        "id": "wHp9HktVdddF",
        "outputId": "f8e89449-5e6b-4a72-bcec-8151a5c4ae98"
      },
      "source": [
        "#check for outliers in other columns\n",
        "df.boxplot(column='BlueCars_returned_sum')"
      ],
      "execution_count": 67,
      "outputs": [
        {
          "output_type": "execute_result",
          "data": {
            "text/plain": [
              "<matplotlib.axes._subplots.AxesSubplot at 0x7f0ede328f10>"
            ]
          },
          "metadata": {
            "tags": []
          },
          "execution_count": 67
        },
        {
          "output_type": "display_data",
          "data": {
            "image/png": "[encoded data removed]",
            "text/plain": [
              "<Figure size 432x288 with 1 Axes>"
            ]
          },
          "metadata": {
            "tags": []
          }
        }
      ]
    },
    {
      "cell_type": "code",
      "metadata": {
        "colab": {
          "base_uri": "https://localhost:8080/",
          "height": 357
        },
        "id": "YA5T0EiAe-iL",
        "outputId": "c7919353-0bc2-4669-8ea5-0da5454c4e58"
      },
      "source": [
        "#a density plot correctly shows the skewness of this data\n",
        "##It seems that the column has Positive Skewness therefore  the tail on the right side of the distribution is longer .\n",
        "#shows a positive skewness due to many outliers\n",
        "sns.distplot(df['BlueCars_taken_sum'], hist=True, kde=True, \n",
        "             bins=int(180/5), color = 'darkblue', \n",
        "             hist_kws={'edgecolor':'black'},\n",
        "             kde_kws={'linewidth': 2})"
      ],
      "execution_count": 68,
      "outputs": [
        {
          "output_type": "stream",
          "text": [
            "/usr/local/lib/python3.7/dist-packages/seaborn/distributions.py:2557: FutureWarning: `distplot` is a deprecated function and will be removed in a future version. Please adapt your code to use either `displot` (a figure-level function with similar flexibility) or `histplot` (an axes-level function for histograms).\n",
            "  warnings.warn(msg, FutureWarning)\n"
          ],
          "name": "stderr"
        },
        {
          "output_type": "execute_result",
          "data": {
            "text/plain": [
              "<matplotlib.axes._subplots.AxesSubplot at 0x7f0ede2a6b10>"
            ]
          },
          "metadata": {
            "tags": []
          },
          "execution_count": 68
        },
        {
          "output_type": "display_data",
          "data": {
            "image/png": "[encoded data removed]",
            "text/plain": [
              "<Figure size 432x288 with 1 Axes>"
            ]
          },
          "metadata": {
            "tags": []
          }
        }
      ]
    },
    {
      "cell_type": "code",
      "metadata": {
        "colab": {
          "base_uri": "https://localhost:8080/"
        },
        "id": "VbJ_ij3QfxRT",
        "outputId": "4953ea54-67e3-4fc9-b89f-c7a55c93f6cf"
      },
      "source": [
        "#now let me actually check the number of outliers in individual columns\n",
        "#I create a function that helps do this\n",
        "outliers=[]\n",
        "\n",
        "def detect_outlier(df):\n",
        "    \n",
        "    threshold=3\n",
        "    mean_1 = np.mean(df)\n",
        "    std_1 =np.std(df)\n",
        "    \n",
        "    for y in df:\n",
        "        z_score= (y - mean_1)/std_1 \n",
        "        if np.abs(z_score) > threshold:\n",
        "            outliers.append(y)\n",
        "    return outliers\n",
        "\n",
        "len(detect_outlier(df['BlueCars_taken_sum']))\n",
        "#468 outliers in this column\n",
        "#if removed, this will not affect our data or model negatively"
      ],
      "execution_count": 69,
      "outputs": [
        {
          "output_type": "execute_result",
          "data": {
            "text/plain": [
              "468"
            ]
          },
          "metadata": {
            "tags": []
          },
          "execution_count": 69
        }
      ]
    },
    {
      "cell_type": "code",
      "metadata": {
        "colab": {
          "base_uri": "https://localhost:8080/"
        },
        "id": "TcKtG6bngjNm",
        "outputId": "81cdead7-ebd9-429c-e7a9-159f88dbe891"
      },
      "source": [
        "#check number of outliers in other columns\n",
        "outliers=[]\n",
        "\n",
        "def detect_outlier(df):\n",
        "    \n",
        "    threshold=3\n",
        "    mean_1 = np.mean(df)\n",
        "    std_1 =np.std(df)\n",
        "    \n",
        "    for y in df:\n",
        "        z_score= (y - mean_1)/std_1 \n",
        "        if np.abs(z_score) > threshold:\n",
        "            outliers.append(y)\n",
        "    return outliers\n",
        "\n",
        "len(detect_outlier(df['BlueCars_returned_sum']))"
      ],
      "execution_count": 70,
      "outputs": [
        {
          "output_type": "execute_result",
          "data": {
            "text/plain": [
              "460"
            ]
          },
          "metadata": {
            "tags": []
          },
          "execution_count": 70
        }
      ]
    },
    {
      "cell_type": "code",
      "metadata": {
        "colab": {
          "base_uri": "https://localhost:8080/"
        },
        "id": "AaVO2o_XgsIA",
        "outputId": "b1aee388-3376-4120-a1b0-d2a33bdbba62"
      },
      "source": [
        "outliers=[]\n",
        "\n",
        "def detect_outlier(df):\n",
        "    \n",
        "    threshold=3\n",
        "    mean_1 = np.mean(df)\n",
        "    std_1 =np.std(df)\n",
        "    \n",
        "    for y in df:\n",
        "        z_score= (y - mean_1)/std_1 \n",
        "        if np.abs(z_score) > threshold:\n",
        "            outliers.append(y)\n",
        "    return outliers\n",
        "\n",
        "len(detect_outlier(df['dayOfWeek']))"
      ],
      "execution_count": 71,
      "outputs": [
        {
          "output_type": "execute_result",
          "data": {
            "text/plain": [
              "0"
            ]
          },
          "metadata": {
            "tags": []
          },
          "execution_count": 71
        }
      ]
    },
    {
      "cell_type": "code",
      "metadata": {
        "colab": {
          "base_uri": "https://localhost:8080/"
        },
        "id": "GsGOXU3qgy28",
        "outputId": "18b6d402-b7c3-455c-a850-bd740f7ea97f"
      },
      "source": [
        "outliers=[]\n",
        "\n",
        "def detect_outlier(df):\n",
        "    \n",
        "    threshold=3\n",
        "    mean_1 = np.mean(df)\n",
        "    std_1 =np.std(df)\n",
        "    \n",
        "    for y in df:\n",
        "        z_score= (y - mean_1)/std_1 \n",
        "        if np.abs(z_score) > threshold:\n",
        "            outliers.append(y)\n",
        "    return outliers\n",
        "\n",
        "len(detect_outlier(df['Utilib_14_taken_sum']))"
      ],
      "execution_count": 72,
      "outputs": [
        {
          "output_type": "execute_result",
          "data": {
            "text/plain": [
              "419"
            ]
          },
          "metadata": {
            "tags": []
          },
          "execution_count": 72
        }
      ]
    },
    {
      "cell_type": "code",
      "metadata": {
        "colab": {
          "base_uri": "https://localhost:8080/"
        },
        "id": "7c_6rAw_g9gx",
        "outputId": "7dd8c6e6-1490-42e3-dc40-9f2ba69293f8"
      },
      "source": [
        "outliers=[]\n",
        "\n",
        "def detect_outlier(df):\n",
        "    \n",
        "    threshold=3\n",
        "    mean_1 = np.mean(df)\n",
        "    std_1 =np.std(df)\n",
        "    \n",
        "    for y in df:\n",
        "        z_score= (y - mean_1)/std_1 \n",
        "        if np.abs(z_score) > threshold:\n",
        "            outliers.append(y)\n",
        "    return outliers\n",
        "\n",
        "len(detect_outlier(df['Utilib_14_returned_sum']))"
      ],
      "execution_count": 73,
      "outputs": [
        {
          "output_type": "execute_result",
          "data": {
            "text/plain": [
              "412"
            ]
          },
          "metadata": {
            "tags": []
          },
          "execution_count": 73
        }
      ]
    },
    {
      "cell_type": "code",
      "metadata": {
        "colab": {
          "base_uri": "https://localhost:8080/"
        },
        "id": "pOmmkQ2khCyc",
        "outputId": "99eb7bde-2b94-4e76-9866-4e205223376d"
      },
      "source": [
        "#now,removing the outliers and anomalies in dataset\n",
        "#I have to get the Interquartile range\n",
        "Q1 = df.quantile(0.25)\n",
        "Q3 = df.quantile(0.75)\n",
        "IQR = Q3 - Q1\n",
        "newdf = df[~((df < (Q1 - 1.5 * IQR)) | (df > (Q3 + 1.5 * IQR))).any(axis=1)]\n",
        "print(newdf.shape)\n",
        "print(df.shape)\n",
        "#most of the data would have probably led to terrible models due to presence of anomalies and outliers\n"
      ],
      "execution_count": 74,
      "outputs": [
        {
          "output_type": "stream",
          "text": [
            "(9783, 13)\n",
            "(16085, 13)\n"
          ],
          "name": "stdout"
        }
      ]
    },
    {
      "cell_type": "code",
      "metadata": {
        "colab": {
          "base_uri": "https://localhost:8080/"
        },
        "id": "xmjTllWDw0Th",
        "outputId": "495c7cb5-5734-4698-cc87-4c6f0e67b569"
      },
      "source": [
        "newdf.shape"
      ],
      "execution_count": 75,
      "outputs": [
        {
          "output_type": "execute_result",
          "data": {
            "text/plain": [
              "(9783, 13)"
            ]
          },
          "metadata": {
            "tags": []
          },
          "execution_count": 75
        }
      ]
    },
    {
      "cell_type": "code",
      "metadata": {
        "colab": {
          "base_uri": "https://localhost:8080/"
        },
        "id": "Q-ejYLVphgez",
        "outputId": "5762a8ed-c1d7-47fb-e7c9-b8d6bc61900a"
      },
      "source": [
        "#Now lets turn to missing data\n",
        "newdf.isnull().sum()\n",
        "#No missing data"
      ],
      "execution_count": 76,
      "outputs": [
        {
          "output_type": "execute_result",
          "data": {
            "text/plain": [
              "Postal code               0\n",
              "date                      0\n",
              "n_daily_data_points       0\n",
              "dayOfWeek                 0\n",
              "day_type                  0\n",
              "BlueCars_taken_sum        0\n",
              "BlueCars_returned_sum     0\n",
              "Utilib_taken_sum          0\n",
              "Utilib_returned_sum       0\n",
              "Utilib_14_taken_sum       0\n",
              "Utilib_14_returned_sum    0\n",
              "Slots_freed_sum           0\n",
              "Slots_taken_sum           0\n",
              "dtype: int64"
            ]
          },
          "metadata": {
            "tags": []
          },
          "execution_count": 76
        }
      ]
    },
    {
      "cell_type": "code",
      "metadata": {
        "colab": {
          "base_uri": "https://localhost:8080/",
          "height": 534
        },
        "id": "KGEdfl1Uim6x",
        "outputId": "3433c73d-b581-4207-cb6e-ff72b0d80cd6"
      },
      "source": [
        "#but just to visualize our non-null columns we use missingno\n",
        "import missingno as msno\n",
        "%matplotlib inline\n",
        "msno.bar(newdf)\n",
        "#there are no NA values in data"
      ],
      "execution_count": 77,
      "outputs": [
        {
          "output_type": "execute_result",
          "data": {
            "text/plain": [
              "<matplotlib.axes._subplots.AxesSubplot at 0x7f0ede691d90>"
            ]
          },
          "metadata": {
            "tags": []
          },
          "execution_count": 77
        },
        {
          "output_type": "display_data",
          "data": {
            "image/png": "[encoded data removed]",
            "text/plain": [
              "<Figure size 1728x720 with 3 Axes>"
            ]
          },
          "metadata": {
            "tags": [],
            "needs_background": "light"
          }
        }
      ]
    },
    {
      "cell_type": "code",
      "metadata": {
        "colab": {
          "base_uri": "https://localhost:8080/",
          "height": 241
        },
        "id": "mVwo3kwkjGFN",
        "outputId": "cc2bfe30-768c-497c-d94d-efaa58bbc835"
      },
      "source": [
        "#more data cleaning\n",
        "newdf.head()"
      ],
      "execution_count": 78,
      "outputs": [
        {
          "output_type": "execute_result",
          "data": {
            "text/html": [
              "<div>\n",
              "<style scoped>\n",
              "    .dataframe tbody tr th:only-of-type {\n",
              "        vertical-align: middle;\n",
              "    }\n",
              "\n",
              "    .dataframe tbody tr th {\n",
              "        vertical-align: top;\n",
              "    }\n",
              "\n",
              "    .dataframe thead th {\n",
              "        text-align: right;\n",
              "    }\n",
              "</style>\n",
              "<table border=\"1\" class=\"dataframe\">\n",
              "  <thead>\n",
              "    <tr style=\"text-align: right;\">\n",
              "      <th></th>\n",
              "      <th>Postal code</th>\n",
              "      <th>date</th>\n",
              "      <th>n_daily_data_points</th>\n",
              "      <th>dayOfWeek</th>\n",
              "      <th>day_type</th>\n",
              "      <th>BlueCars_taken_sum</th>\n",
              "      <th>BlueCars_returned_sum</th>\n",
              "      <th>Utilib_taken_sum</th>\n",
              "      <th>Utilib_returned_sum</th>\n",
              "      <th>Utilib_14_taken_sum</th>\n",
              "      <th>Utilib_14_returned_sum</th>\n",
              "      <th>Slots_freed_sum</th>\n",
              "      <th>Slots_taken_sum</th>\n",
              "    </tr>\n",
              "  </thead>\n",
              "  <tbody>\n",
              "    <tr>\n",
              "      <th>3899</th>\n",
              "      <td>91330</td>\n",
              "      <td>1/1/2018</td>\n",
              "      <td>1440</td>\n",
              "      <td>0</td>\n",
              "      <td>weekday</td>\n",
              "      <td>19</td>\n",
              "      <td>9</td>\n",
              "      <td>0</td>\n",
              "      <td>0</td>\n",
              "      <td>0</td>\n",
              "      <td>0</td>\n",
              "      <td>4</td>\n",
              "      <td>2</td>\n",
              "    </tr>\n",
              "    <tr>\n",
              "      <th>3900</th>\n",
              "      <td>91330</td>\n",
              "      <td>1/2/2018</td>\n",
              "      <td>1438</td>\n",
              "      <td>1</td>\n",
              "      <td>weekday</td>\n",
              "      <td>10</td>\n",
              "      <td>10</td>\n",
              "      <td>0</td>\n",
              "      <td>0</td>\n",
              "      <td>0</td>\n",
              "      <td>0</td>\n",
              "      <td>0</td>\n",
              "      <td>0</td>\n",
              "    </tr>\n",
              "    <tr>\n",
              "      <th>3901</th>\n",
              "      <td>91330</td>\n",
              "      <td>1/3/2018</td>\n",
              "      <td>1439</td>\n",
              "      <td>2</td>\n",
              "      <td>weekday</td>\n",
              "      <td>11</td>\n",
              "      <td>13</td>\n",
              "      <td>0</td>\n",
              "      <td>0</td>\n",
              "      <td>0</td>\n",
              "      <td>0</td>\n",
              "      <td>1</td>\n",
              "      <td>1</td>\n",
              "    </tr>\n",
              "    <tr>\n",
              "      <th>3903</th>\n",
              "      <td>91330</td>\n",
              "      <td>1/5/2018</td>\n",
              "      <td>1440</td>\n",
              "      <td>4</td>\n",
              "      <td>weekday</td>\n",
              "      <td>10</td>\n",
              "      <td>6</td>\n",
              "      <td>0</td>\n",
              "      <td>0</td>\n",
              "      <td>0</td>\n",
              "      <td>0</td>\n",
              "      <td>1</td>\n",
              "      <td>1</td>\n",
              "    </tr>\n",
              "    <tr>\n",
              "      <th>3905</th>\n",
              "      <td>91330</td>\n",
              "      <td>1/7/2018</td>\n",
              "      <td>1440</td>\n",
              "      <td>6</td>\n",
              "      <td>weekend</td>\n",
              "      <td>28</td>\n",
              "      <td>17</td>\n",
              "      <td>0</td>\n",
              "      <td>0</td>\n",
              "      <td>1</td>\n",
              "      <td>1</td>\n",
              "      <td>4</td>\n",
              "      <td>2</td>\n",
              "    </tr>\n",
              "  </tbody>\n",
              "</table>\n",
              "</div>"
            ],
            "text/plain": [
              "      Postal code      date  ...  Slots_freed_sum  Slots_taken_sum\n",
              "3899        91330  1/1/2018  ...                4                2\n",
              "3900        91330  1/2/2018  ...                0                0\n",
              "3901        91330  1/3/2018  ...                1                1\n",
              "3903        91330  1/5/2018  ...                1                1\n",
              "3905        91330  1/7/2018  ...                4                2\n",
              "\n",
              "[5 rows x 13 columns]"
            ]
          },
          "metadata": {
            "tags": []
          },
          "execution_count": 78
        }
      ]
    },
    {
      "cell_type": "code",
      "metadata": {
        "colab": {
          "base_uri": "https://localhost:8080/"
        },
        "id": "7am2ANQWjZnl",
        "outputId": "ef509971-2527-4c15-fcf6-2b20f763503c"
      },
      "source": [
        "#ensure date is in a better dateTime format\n",
        "newdf['date'] = pd.to_datetime(newdf['date'])"
      ],
      "execution_count": 79,
      "outputs": [
        {
          "output_type": "stream",
          "text": [
            "/usr/local/lib/python3.7/dist-packages/ipykernel_launcher.py:2: SettingWithCopyWarning: \n",
            "A value is trying to be set on a copy of a slice from a DataFrame.\n",
            "Try using .loc[row_indexer,col_indexer] = value instead\n",
            "\n",
            "See the caveats in the documentation: https://pandas.pydata.org/pandas-docs/stable/user_guide/indexing.html#returning-a-view-versus-a-copy\n",
            "  \n"
          ],
          "name": "stderr"
        }
      ]
    },
    {
      "cell_type": "code",
      "metadata": {
        "colab": {
          "base_uri": "https://localhost:8080/"
        },
        "id": "CveVkLZwjpG0",
        "outputId": "3c33e539-7a1c-4c66-cf42-9a15ecbc17dc"
      },
      "source": [
        "newdf.dtypes"
      ],
      "execution_count": 80,
      "outputs": [
        {
          "output_type": "execute_result",
          "data": {
            "text/plain": [
              "Postal code                        int64\n",
              "date                      datetime64[ns]\n",
              "n_daily_data_points                int64\n",
              "dayOfWeek                          int64\n",
              "day_type                          object\n",
              "BlueCars_taken_sum                 int64\n",
              "BlueCars_returned_sum              int64\n",
              "Utilib_taken_sum                   int64\n",
              "Utilib_returned_sum                int64\n",
              "Utilib_14_taken_sum                int64\n",
              "Utilib_14_returned_sum             int64\n",
              "Slots_freed_sum                    int64\n",
              "Slots_taken_sum                    int64\n",
              "dtype: object"
            ]
          },
          "metadata": {
            "tags": []
          },
          "execution_count": 80
        }
      ]
    },
    {
      "cell_type": "code",
      "metadata": {
        "colab": {
          "base_uri": "https://localhost:8080/"
        },
        "id": "tbuR0GTAjsI1",
        "outputId": "66569128-1dd0-4974-8e25-c18f4e3914b1"
      },
      "source": [
        "#correct column names\n",
        "newdf.rename(columns = {\"n_daily_data_points\": \"datapoints\", \n",
        "                     \"day_type\":\"daytype\",\"BlueCars_taken_sum\":\"BlueCarstakensum\",\"BlueCars_returned_sum\":'BlueCarsreturnedsum'}, \n",
        "                                 inplace = True) \n",
        "newdf.columns"
      ],
      "execution_count": 81,
      "outputs": [
        {
          "output_type": "stream",
          "text": [
            "/usr/local/lib/python3.7/dist-packages/pandas/core/frame.py:4308: SettingWithCopyWarning: \n",
            "A value is trying to be set on a copy of a slice from a DataFrame\n",
            "\n",
            "See the caveats in the documentation: https://pandas.pydata.org/pandas-docs/stable/user_guide/indexing.html#returning-a-view-versus-a-copy\n",
            "  errors=errors,\n"
          ],
          "name": "stderr"
        },
        {
          "output_type": "execute_result",
          "data": {
            "text/plain": [
              "Index(['Postal code', 'date', 'datapoints', 'dayOfWeek', 'daytype',\n",
              "       'BlueCarstakensum', 'BlueCarsreturnedsum', 'Utilib_taken_sum',\n",
              "       'Utilib_returned_sum', 'Utilib_14_taken_sum', 'Utilib_14_returned_sum',\n",
              "       'Slots_freed_sum', 'Slots_taken_sum'],\n",
              "      dtype='object')"
            ]
          },
          "metadata": {
            "tags": []
          },
          "execution_count": 81
        }
      ]
    },
    {
      "cell_type": "code",
      "metadata": {
        "colab": {
          "base_uri": "https://localhost:8080/",
          "height": 182
        },
        "id": "tGV-dEmSl1HZ",
        "outputId": "d905947f-2153-4393-f3e1-d6423a448a14"
      },
      "source": [
        "newdf.head(2)"
      ],
      "execution_count": 82,
      "outputs": [
        {
          "output_type": "execute_result",
          "data": {
            "text/html": [
              "<div>\n",
              "<style scoped>\n",
              "    .dataframe tbody tr th:only-of-type {\n",
              "        vertical-align: middle;\n",
              "    }\n",
              "\n",
              "    .dataframe tbody tr th {\n",
              "        vertical-align: top;\n",
              "    }\n",
              "\n",
              "    .dataframe thead th {\n",
              "        text-align: right;\n",
              "    }\n",
              "</style>\n",
              "<table border=\"1\" class=\"dataframe\">\n",
              "  <thead>\n",
              "    <tr style=\"text-align: right;\">\n",
              "      <th></th>\n",
              "      <th>Postal code</th>\n",
              "      <th>date</th>\n",
              "      <th>datapoints</th>\n",
              "      <th>dayOfWeek</th>\n",
              "      <th>daytype</th>\n",
              "      <th>BlueCarstakensum</th>\n",
              "      <th>BlueCarsreturnedsum</th>\n",
              "      <th>Utilib_taken_sum</th>\n",
              "      <th>Utilib_returned_sum</th>\n",
              "      <th>Utilib_14_taken_sum</th>\n",
              "      <th>Utilib_14_returned_sum</th>\n",
              "      <th>Slots_freed_sum</th>\n",
              "      <th>Slots_taken_sum</th>\n",
              "    </tr>\n",
              "  </thead>\n",
              "  <tbody>\n",
              "    <tr>\n",
              "      <th>3899</th>\n",
              "      <td>91330</td>\n",
              "      <td>2018-01-01</td>\n",
              "      <td>1440</td>\n",
              "      <td>0</td>\n",
              "      <td>weekday</td>\n",
              "      <td>19</td>\n",
              "      <td>9</td>\n",
              "      <td>0</td>\n",
              "      <td>0</td>\n",
              "      <td>0</td>\n",
              "      <td>0</td>\n",
              "      <td>4</td>\n",
              "      <td>2</td>\n",
              "    </tr>\n",
              "    <tr>\n",
              "      <th>3900</th>\n",
              "      <td>91330</td>\n",
              "      <td>2018-01-02</td>\n",
              "      <td>1438</td>\n",
              "      <td>1</td>\n",
              "      <td>weekday</td>\n",
              "      <td>10</td>\n",
              "      <td>10</td>\n",
              "      <td>0</td>\n",
              "      <td>0</td>\n",
              "      <td>0</td>\n",
              "      <td>0</td>\n",
              "      <td>0</td>\n",
              "      <td>0</td>\n",
              "    </tr>\n",
              "  </tbody>\n",
              "</table>\n",
              "</div>"
            ],
            "text/plain": [
              "      Postal code       date  ...  Slots_freed_sum  Slots_taken_sum\n",
              "3899        91330 2018-01-01  ...                4                2\n",
              "3900        91330 2018-01-02  ...                0                0\n",
              "\n",
              "[2 rows x 13 columns]"
            ]
          },
          "metadata": {
            "tags": []
          },
          "execution_count": 82
        }
      ]
    },
    {
      "cell_type": "code",
      "metadata": {
        "colab": {
          "base_uri": "https://localhost:8080/"
        },
        "id": "RUxPA3WMl2vK",
        "outputId": "26270d54-56b6-4057-b296-a0090e97c7fa"
      },
      "source": [
        "#now check and drop any duplicate columns\n",
        "newdf.drop_duplicates(keep=False,inplace=True)"
      ],
      "execution_count": 83,
      "outputs": [
        {
          "output_type": "stream",
          "text": [
            "/usr/local/lib/python3.7/dist-packages/ipykernel_launcher.py:2: SettingWithCopyWarning: \n",
            "A value is trying to be set on a copy of a slice from a DataFrame\n",
            "\n",
            "See the caveats in the documentation: https://pandas.pydata.org/pandas-docs/stable/user_guide/indexing.html#returning-a-view-versus-a-copy\n",
            "  \n"
          ],
          "name": "stderr"
        }
      ]
    },
    {
      "cell_type": "code",
      "metadata": {
        "colab": {
          "base_uri": "https://localhost:8080/"
        },
        "id": "9pPKOGt3zUTn",
        "outputId": "a1d3a4a8-90c1-40dc-f5fe-03e29ac37f15"
      },
      "source": [
        "newdf['days'] = newdf['dayOfWeek']"
      ],
      "execution_count": 84,
      "outputs": [
        {
          "output_type": "stream",
          "text": [
            "/usr/local/lib/python3.7/dist-packages/ipykernel_launcher.py:1: SettingWithCopyWarning: \n",
            "A value is trying to be set on a copy of a slice from a DataFrame.\n",
            "Try using .loc[row_indexer,col_indexer] = value instead\n",
            "\n",
            "See the caveats in the documentation: https://pandas.pydata.org/pandas-docs/stable/user_guide/indexing.html#returning-a-view-versus-a-copy\n",
            "  \"\"\"Entry point for launching an IPython kernel.\n"
          ],
          "name": "stderr"
        }
      ]
    },
    {
      "cell_type": "code",
      "metadata": {
        "colab": {
          "base_uri": "https://localhost:8080/",
          "height": 182
        },
        "id": "DXcMGU6PxwWl",
        "outputId": "de08cd13-e781-4771-c8eb-bc8cde1a840a"
      },
      "source": [
        "newdf.head(2)"
      ],
      "execution_count": 85,
      "outputs": [
        {
          "output_type": "execute_result",
          "data": {
            "text/html": [
              "<div>\n",
              "<style scoped>\n",
              "    .dataframe tbody tr th:only-of-type {\n",
              "        vertical-align: middle;\n",
              "    }\n",
              "\n",
              "    .dataframe tbody tr th {\n",
              "        vertical-align: top;\n",
              "    }\n",
              "\n",
              "    .dataframe thead th {\n",
              "        text-align: right;\n",
              "    }\n",
              "</style>\n",
              "<table border=\"1\" class=\"dataframe\">\n",
              "  <thead>\n",
              "    <tr style=\"text-align: right;\">\n",
              "      <th></th>\n",
              "      <th>Postal code</th>\n",
              "      <th>date</th>\n",
              "      <th>datapoints</th>\n",
              "      <th>dayOfWeek</th>\n",
              "      <th>daytype</th>\n",
              "      <th>BlueCarstakensum</th>\n",
              "      <th>BlueCarsreturnedsum</th>\n",
              "      <th>Utilib_taken_sum</th>\n",
              "      <th>Utilib_returned_sum</th>\n",
              "      <th>Utilib_14_taken_sum</th>\n",
              "      <th>Utilib_14_returned_sum</th>\n",
              "      <th>Slots_freed_sum</th>\n",
              "      <th>Slots_taken_sum</th>\n",
              "      <th>days</th>\n",
              "    </tr>\n",
              "  </thead>\n",
              "  <tbody>\n",
              "    <tr>\n",
              "      <th>3899</th>\n",
              "      <td>91330</td>\n",
              "      <td>2018-01-01</td>\n",
              "      <td>1440</td>\n",
              "      <td>0</td>\n",
              "      <td>weekday</td>\n",
              "      <td>19</td>\n",
              "      <td>9</td>\n",
              "      <td>0</td>\n",
              "      <td>0</td>\n",
              "      <td>0</td>\n",
              "      <td>0</td>\n",
              "      <td>4</td>\n",
              "      <td>2</td>\n",
              "      <td>0</td>\n",
              "    </tr>\n",
              "    <tr>\n",
              "      <th>3900</th>\n",
              "      <td>91330</td>\n",
              "      <td>2018-01-02</td>\n",
              "      <td>1438</td>\n",
              "      <td>1</td>\n",
              "      <td>weekday</td>\n",
              "      <td>10</td>\n",
              "      <td>10</td>\n",
              "      <td>0</td>\n",
              "      <td>0</td>\n",
              "      <td>0</td>\n",
              "      <td>0</td>\n",
              "      <td>0</td>\n",
              "      <td>0</td>\n",
              "      <td>1</td>\n",
              "    </tr>\n",
              "  </tbody>\n",
              "</table>\n",
              "</div>"
            ],
            "text/plain": [
              "      Postal code       date  ...  Slots_taken_sum  days\n",
              "3899        91330 2018-01-01  ...                2     0\n",
              "3900        91330 2018-01-02  ...                0     1\n",
              "\n",
              "[2 rows x 14 columns]"
            ]
          },
          "metadata": {
            "tags": []
          },
          "execution_count": 85
        }
      ]
    },
    {
      "cell_type": "code",
      "metadata": {
        "colab": {
          "base_uri": "https://localhost:8080/"
        },
        "id": "1_MEmIeiz1Js",
        "outputId": "06af456f-6195-4040-b7be-dbf38e51167d"
      },
      "source": [
        "newdf['dayOfWeek'].value_counts()"
      ],
      "execution_count": 86,
      "outputs": [
        {
          "output_type": "execute_result",
          "data": {
            "text/plain": [
              "6    1564\n",
              "0    1525\n",
              "1    1520\n",
              "5    1399\n",
              "2    1359\n",
              "4    1283\n",
              "3    1133\n",
              "Name: dayOfWeek, dtype: int64"
            ]
          },
          "metadata": {
            "tags": []
          },
          "execution_count": 86
        }
      ]
    },
    {
      "cell_type": "code",
      "metadata": {
        "colab": {
          "base_uri": "https://localhost:8080/"
        },
        "id": "qTDoBUBH0We3",
        "outputId": "3733895a-3436-4f58-8e1c-8653e632fe87"
      },
      "source": [
        "newdf['days'] = newdf['days'].astype(str)"
      ],
      "execution_count": 87,
      "outputs": [
        {
          "output_type": "stream",
          "text": [
            "/usr/local/lib/python3.7/dist-packages/ipykernel_launcher.py:1: SettingWithCopyWarning: \n",
            "A value is trying to be set on a copy of a slice from a DataFrame.\n",
            "Try using .loc[row_indexer,col_indexer] = value instead\n",
            "\n",
            "See the caveats in the documentation: https://pandas.pydata.org/pandas-docs/stable/user_guide/indexing.html#returning-a-view-versus-a-copy\n",
            "  \"\"\"Entry point for launching an IPython kernel.\n"
          ],
          "name": "stderr"
        }
      ]
    },
    {
      "cell_type": "code",
      "metadata": {
        "id": "zX9OaUDeyfab",
        "colab": {
          "base_uri": "https://localhost:8080/"
        },
        "outputId": "49eca15e-a7a6-4e95-91cd-f9baf9f5974b"
      },
      "source": [
        "#impute some column values\n",
        "#create a new column with day names for better visualisation \n",
        "newdf['days'].replace(['0', '1','2','3','4','5','6'], ['Mon', 'Tue','Wed','Thur','Fri','Sat','Sun'], inplace=True)"
      ],
      "execution_count": 88,
      "outputs": [
        {
          "output_type": "stream",
          "text": [
            "/usr/local/lib/python3.7/dist-packages/pandas/core/series.py:4582: SettingWithCopyWarning: \n",
            "A value is trying to be set on a copy of a slice from a DataFrame\n",
            "\n",
            "See the caveats in the documentation: https://pandas.pydata.org/pandas-docs/stable/user_guide/indexing.html#returning-a-view-versus-a-copy\n",
            "  method=method,\n"
          ],
          "name": "stderr"
        }
      ]
    },
    {
      "cell_type": "code",
      "metadata": {
        "colab": {
          "base_uri": "https://localhost:8080/",
          "height": 326
        },
        "id": "G4Q8u5_l1WGH",
        "outputId": "473de20b-8957-45b8-f612-1e90d9ee10c8"
      },
      "source": [
        "#arrange data in ascending order of dates\n",
        "newdf = newdf.sort_values(by = 'date', ascending = True)\n",
        "newdf.head()\n",
        "#so this data was recorded between January 1 2018\n",
        "#and June 6th 2018"
      ],
      "execution_count": 89,
      "outputs": [
        {
          "output_type": "execute_result",
          "data": {
            "text/html": [
              "<div>\n",
              "<style scoped>\n",
              "    .dataframe tbody tr th:only-of-type {\n",
              "        vertical-align: middle;\n",
              "    }\n",
              "\n",
              "    .dataframe tbody tr th {\n",
              "        vertical-align: top;\n",
              "    }\n",
              "\n",
              "    .dataframe thead th {\n",
              "        text-align: right;\n",
              "    }\n",
              "</style>\n",
              "<table border=\"1\" class=\"dataframe\">\n",
              "  <thead>\n",
              "    <tr style=\"text-align: right;\">\n",
              "      <th></th>\n",
              "      <th>Postal code</th>\n",
              "      <th>date</th>\n",
              "      <th>datapoints</th>\n",
              "      <th>dayOfWeek</th>\n",
              "      <th>daytype</th>\n",
              "      <th>BlueCarstakensum</th>\n",
              "      <th>BlueCarsreturnedsum</th>\n",
              "      <th>Utilib_taken_sum</th>\n",
              "      <th>Utilib_returned_sum</th>\n",
              "      <th>Utilib_14_taken_sum</th>\n",
              "      <th>Utilib_14_returned_sum</th>\n",
              "      <th>Slots_freed_sum</th>\n",
              "      <th>Slots_taken_sum</th>\n",
              "      <th>days</th>\n",
              "    </tr>\n",
              "  </thead>\n",
              "  <tbody>\n",
              "    <tr>\n",
              "      <th>3899</th>\n",
              "      <td>91330</td>\n",
              "      <td>2018-01-01</td>\n",
              "      <td>1440</td>\n",
              "      <td>0</td>\n",
              "      <td>weekday</td>\n",
              "      <td>19</td>\n",
              "      <td>9</td>\n",
              "      <td>0</td>\n",
              "      <td>0</td>\n",
              "      <td>0</td>\n",
              "      <td>0</td>\n",
              "      <td>4</td>\n",
              "      <td>2</td>\n",
              "      <td>Mon</td>\n",
              "    </tr>\n",
              "    <tr>\n",
              "      <th>13746</th>\n",
              "      <td>94140</td>\n",
              "      <td>2018-01-01</td>\n",
              "      <td>1440</td>\n",
              "      <td>0</td>\n",
              "      <td>weekday</td>\n",
              "      <td>51</td>\n",
              "      <td>45</td>\n",
              "      <td>9</td>\n",
              "      <td>8</td>\n",
              "      <td>1</td>\n",
              "      <td>3</td>\n",
              "      <td>0</td>\n",
              "      <td>0</td>\n",
              "      <td>Mon</td>\n",
              "    </tr>\n",
              "    <tr>\n",
              "      <th>13590</th>\n",
              "      <td>94130</td>\n",
              "      <td>2018-01-01</td>\n",
              "      <td>1440</td>\n",
              "      <td>0</td>\n",
              "      <td>weekday</td>\n",
              "      <td>42</td>\n",
              "      <td>45</td>\n",
              "      <td>0</td>\n",
              "      <td>1</td>\n",
              "      <td>2</td>\n",
              "      <td>2</td>\n",
              "      <td>0</td>\n",
              "      <td>0</td>\n",
              "      <td>Mon</td>\n",
              "    </tr>\n",
              "    <tr>\n",
              "      <th>13434</th>\n",
              "      <td>94120</td>\n",
              "      <td>2018-01-01</td>\n",
              "      <td>1440</td>\n",
              "      <td>0</td>\n",
              "      <td>weekday</td>\n",
              "      <td>55</td>\n",
              "      <td>46</td>\n",
              "      <td>0</td>\n",
              "      <td>0</td>\n",
              "      <td>6</td>\n",
              "      <td>7</td>\n",
              "      <td>0</td>\n",
              "      <td>0</td>\n",
              "      <td>Mon</td>\n",
              "    </tr>\n",
              "    <tr>\n",
              "      <th>5301</th>\n",
              "      <td>92150</td>\n",
              "      <td>2018-01-01</td>\n",
              "      <td>1440</td>\n",
              "      <td>0</td>\n",
              "      <td>weekday</td>\n",
              "      <td>104</td>\n",
              "      <td>122</td>\n",
              "      <td>2</td>\n",
              "      <td>2</td>\n",
              "      <td>19</td>\n",
              "      <td>21</td>\n",
              "      <td>0</td>\n",
              "      <td>0</td>\n",
              "      <td>Mon</td>\n",
              "    </tr>\n",
              "  </tbody>\n",
              "</table>\n",
              "</div>"
            ],
            "text/plain": [
              "       Postal code       date  ...  Slots_taken_sum  days\n",
              "3899         91330 2018-01-01  ...                2   Mon\n",
              "13746        94140 2018-01-01  ...                0   Mon\n",
              "13590        94130 2018-01-01  ...                0   Mon\n",
              "13434        94120 2018-01-01  ...                0   Mon\n",
              "5301         92150 2018-01-01  ...                0   Mon\n",
              "\n",
              "[5 rows x 14 columns]"
            ]
          },
          "metadata": {
            "tags": []
          },
          "execution_count": 89
        }
      ]
    },
    {
      "cell_type": "markdown",
      "metadata": {
        "id": "KD5W2dZMbHu_"
      },
      "source": [
        "## EDA"
      ]
    },
    {
      "cell_type": "code",
      "metadata": {
        "colab": {
          "base_uri": "https://localhost:8080/",
          "height": 559
        },
        "id": "hJDN77GT1ZVE",
        "outputId": "cb86c74e-5800-48dd-e2d6-b286d6fa69f8"
      },
      "source": [
        "#Now for some Univariate EDAs\n",
        "#A frequency distribution of Days of the week recorded in dataset\n",
        "day_count = newdf['days'].value_counts()\n",
        "print(day_count)\n",
        "print(' ')\n",
        "print(' ')\n",
        "sns.set(style=\"darkgrid\")\n",
        "sns.barplot(day_count.index, day_count.values, alpha=0.9)\n",
        "plt.title('Frequency Distribution of Days Recorded')\n",
        "plt.ylabel('Number of Occurrences', fontsize=12)\n",
        "plt.xlabel('Days Of The Week', fontsize=12)\n",
        "plt.xticks(rotation = 75)\n",
        "plt.show()\n",
        "plt.savefig('Day Counts')"
      ],
      "execution_count": 90,
      "outputs": [
        {
          "output_type": "stream",
          "text": [
            "/usr/local/lib/python3.7/dist-packages/seaborn/_decorators.py:43: FutureWarning: Pass the following variables as keyword args: x, y. From version 0.12, the only valid positional argument will be `data`, and passing other arguments without an explicit keyword will result in an error or misinterpretation.\n",
            "  FutureWarning\n"
          ],
          "name": "stderr"
        },
        {
          "output_type": "stream",
          "text": [
            "Sun     1564\n",
            "Mon     1525\n",
            "Tue     1520\n",
            "Sat     1399\n",
            "Wed     1359\n",
            "Fri     1283\n",
            "Thur    1133\n",
            "Name: days, dtype: int64\n",
            " \n",
            " \n"
          ],
          "name": "stdout"
        },
        {
          "output_type": "display_data",
          "data": {
            "image/png": "[encoded data removed]",
            "text/plain": [
              "<Figure size 432x288 with 1 Axes>"
            ]
          },
          "metadata": {
            "tags": []
          }
        },
        {
          "output_type": "display_data",
          "data": {
            "text/plain": [
              "<Figure size 432x288 with 0 Axes>"
            ]
          },
          "metadata": {
            "tags": []
          }
        }
      ]
    },
    {
      "cell_type": "code",
      "metadata": {
        "id": "zInLT7aD3cym",
        "colab": {
          "base_uri": "https://localhost:8080/",
          "height": 636
        },
        "outputId": "7563150c-1ce7-4b40-efec-4e19de775396"
      },
      "source": [
        "#check and visualise the postal codes with highest frequency of activity\n",
        "postal_count = newdf['Postal code'].value_counts()\n",
        "print(postal_count)\n",
        "post = postal_count.head(8)\n",
        "#so there are 79 unique postal codes in the data\n",
        "#The postal code with highest frequecies are shown\n",
        "print(' ')\n",
        "print(' ')\n",
        "sns.set(style=\"darkgrid\")\n",
        "sns.barplot(post.index, post.values, alpha=0.9)\n",
        "plt.title('Frequency Distribution of 8 Most Busy Postal Codes Recorded')\n",
        "plt.ylabel('Number of Occurrences', fontsize=12)\n",
        "plt.xlabel('Postal Code', fontsize=12)\n",
        "plt.xticks(rotation = 75)\n",
        "plt.show()\n",
        "plt.savefig('Postals')"
      ],
      "execution_count": 91,
      "outputs": [
        {
          "output_type": "stream",
          "text": [
            "94130    130\n",
            "92160    130\n",
            "91400    130\n",
            "94450    130\n",
            "94410    130\n",
            "        ... \n",
            "93260    101\n",
            "92800     82\n",
            "93390     72\n",
            "92130     65\n",
            "92100      4\n",
            "Name: Postal code, Length: 79, dtype: int64\n",
            " \n",
            " \n"
          ],
          "name": "stdout"
        },
        {
          "output_type": "stream",
          "text": [
            "/usr/local/lib/python3.7/dist-packages/seaborn/_decorators.py:43: FutureWarning: Pass the following variables as keyword args: x, y. From version 0.12, the only valid positional argument will be `data`, and passing other arguments without an explicit keyword will result in an error or misinterpretation.\n",
            "  FutureWarning\n"
          ],
          "name": "stderr"
        },
        {
          "output_type": "display_data",
          "data": {
            "image/png": "[encoded data removed]",
            "text/plain": [
              "<Figure size 432x288 with 1 Axes>"
            ]
          },
          "metadata": {
            "tags": []
          }
        },
        {
          "output_type": "display_data",
          "data": {
            "text/plain": [
              "<Figure size 432x288 with 0 Axes>"
            ]
          },
          "metadata": {
            "tags": []
          }
        }
      ]
    },
    {
      "cell_type": "code",
      "metadata": {
        "colab": {
          "base_uri": "https://localhost:8080/",
          "height": 333
        },
        "id": "7n7-q3b84hYq",
        "outputId": "675d5859-3ee2-4e11-dd9d-fcf1396860d5"
      },
      "source": [
        "#Between weekdays and Weekends, which times were busy / had high frequency distributions\n",
        "week_times = newdf['daytype'].value_counts()\n",
        "print(week_times)\n",
        "print(' ')\n",
        "print(' ')\n",
        "labels = newdf['daytype'].astype('category').cat.categories.tolist()\n",
        "counts = newdf['daytype'].value_counts()\n",
        "sizes = [counts[var_cat] for var_cat in labels]\n",
        "fig1, ax1 = plt.subplots()\n",
        "ax1.pie(sizes, labels=labels, autopct='%1.1f%%', shadow=True) \n",
        "ax1.axis('equal')\n",
        "plt.show()\n",
        "#weekdays seem to have had more frequency recorded\n",
        "#almost 70% of data was recorded on weekdays."
      ],
      "execution_count": 92,
      "outputs": [
        {
          "output_type": "stream",
          "text": [
            "weekday    6820\n",
            "weekend    2963\n",
            "Name: daytype, dtype: int64\n",
            " \n",
            " \n"
          ],
          "name": "stdout"
        },
        {
          "output_type": "display_data",
          "data": {
            "image/png": "[encoded data removed]",
            "text/plain": [
              "<Figure size 432x288 with 1 Axes>"
            ]
          },
          "metadata": {
            "tags": []
          }
        }
      ]
    },
    {
      "cell_type": "code",
      "metadata": {
        "colab": {
          "base_uri": "https://localhost:8080/"
        },
        "id": "MnqcdbU27Y0J",
        "outputId": "c67dce26-42a9-4a64-afad-a1301046f808"
      },
      "source": [
        "# Finding the min and max number of bluecars taken in a day\n",
        "max_blue = newdf['BlueCarstakensum'].max()\n",
        "min_blue = newdf['BlueCarstakensum'].min()\n",
        "print('Maximum Blue Cars Taken is ',max_blue)\n",
        "print('Minimum Blue Cars Taken is ',min_blue)\n",
        "# Calculating the range of Blue cars taken in a day\n",
        "print('Range of Blue Cars taken in a day is ',max_blue - min_blue)"
      ],
      "execution_count": 93,
      "outputs": [
        {
          "output_type": "stream",
          "text": [
            "Maximum Blue Cars Taken is  293\n",
            "Minimum Blue Cars Taken is  0\n",
            "Range of Blue Cars taken in a day is  293\n"
          ],
          "name": "stdout"
        }
      ]
    },
    {
      "cell_type": "code",
      "metadata": {
        "colab": {
          "base_uri": "https://localhost:8080/",
          "height": 520
        },
        "id": "IBZ-1fv_-9Kp",
        "outputId": "49d90a74-91ed-43eb-922d-733e612c227e"
      },
      "source": [
        "#Bivariate EDA\n",
        "mydf = newdf.groupby('days')['BlueCarstakensum'].sum()\n",
        "plt.figure(figsize= (10,8))\n",
        "sns.barplot(x = mydf.index, y = mydf.values)\n",
        "plt.title('Blue cars taken by Day', fontsize = 16)\n",
        "plt.ylabel('Blue cars taken by day', fontsize=14)\n",
        "plt.xlabel('Day', fontsize=12)\n",
        "plt.show()\n"
      ],
      "execution_count": 94,
      "outputs": [
        {
          "output_type": "display_data",
          "data": {
            "image/png": "[encoded data removed]",
            "text/plain": [
              "<Figure size 720x576 with 1 Axes>"
            ]
          },
          "metadata": {
            "tags": []
          }
        }
      ]
    },
    {
      "cell_type": "code",
      "metadata": {
        "colab": {
          "base_uri": "https://localhost:8080/",
          "height": 301
        },
        "id": "TJg4VUZZGmOO",
        "outputId": "e8783460-5572-4d60-bec6-8d177e106868"
      },
      "source": [
        "#scatter plot to check relation between Numerical values in data\n",
        "plt.scatter(newdf['BlueCarstakensum'],newdf['BlueCarsreturnedsum'],color = 'green')\n",
        "plt.title('Bluecars taken vs returned')\n",
        "plt.xlabel('Bluecars Taken')\n",
        "plt.ylabel('Bluecars Returned')\n",
        "plt.show()\n",
        "#seems there is a high correlation between bluecars taken and returned in postal codes\n"
      ],
      "execution_count": 95,
      "outputs": [
        {
          "output_type": "display_data",
          "data": {
            "image/png": "[encoded data removed]",
            "text/plain": [
              "<Figure size 432x288 with 1 Axes>"
            ]
          },
          "metadata": {
            "tags": []
          }
        }
      ]
    },
    {
      "cell_type": "code",
      "metadata": {
        "colab": {
          "base_uri": "https://localhost:8080/"
        },
        "id": "VpQESpy8IddM",
        "outputId": "7773a893-b6f1-475b-86e0-1803a1dd3d49"
      },
      "source": [
        "#find correlation between numerical \n",
        "#It seems that there is almost no correlation between the age of respondents and household size\n",
        "coeff = newdf['BlueCarsreturnedsum'].corr(newdf['BlueCarstakensum'])\n",
        "coeff\n",
        "#this shows a very high postive correlation between bluecars taken and those returned in postal code\n",
        "#this shows that cars taken were returned in the same postal code picked"
      ],
      "execution_count": 96,
      "outputs": [
        {
          "output_type": "execute_result",
          "data": {
            "text/plain": [
              "0.9920411815140748"
            ]
          },
          "metadata": {
            "tags": []
          },
          "execution_count": 96
        }
      ]
    },
    {
      "cell_type": "code",
      "metadata": {
        "colab": {
          "base_uri": "https://localhost:8080/",
          "height": 522
        },
        "id": "llXI9tgzJJbi",
        "outputId": "9ad385c6-51e4-4ebf-fbfe-f3fdcd829368"
      },
      "source": [
        "#when were bluecars taken (weekend vs weekday)\n",
        "mydf = newdf.groupby('daytype')['BlueCarstakensum'].sum()\n",
        "plt.figure(figsize= (10,8))\n",
        "sns.barplot(x = mydf.index, y = mydf.values)\n",
        "plt.title('Blue Cars Taken (Weekend vs Weekday)', fontsize = 16)\n",
        "plt.ylabel('No. Of Bluecars', fontsize=16)\n",
        "plt.xlabel('Day Type', fontsize=16)\n",
        "plt.show()"
      ],
      "execution_count": 97,
      "outputs": [
        {
          "output_type": "display_data",
          "data": {
            "image/png": "[encoded data removed]",
            "text/plain": [
              "<Figure size 720x576 with 1 Axes>"
            ]
          },
          "metadata": {
            "tags": []
          }
        }
      ]
    },
    {
      "cell_type": "code",
      "metadata": {
        "colab": {
          "base_uri": "https://localhost:8080/",
          "height": 522
        },
        "id": "Y3cAqs1TYqeY",
        "outputId": "d6796609-7825-4830-a8f2-ec89bdef690f"
      },
      "source": [
        "#when were bluecars taken (weekend vs weekday)\n",
        "mydf = newdf.groupby('days')['BlueCarsreturnedsum'].sum()\n",
        "plt.figure(figsize= (10,8))\n",
        "sns.barplot(x = mydf.index, y = mydf.values)\n",
        "plt.title('Blue Cars Returned by day', fontsize = 16)\n",
        "plt.ylabel('No. Of Bluecars', fontsize=16)\n",
        "plt.xlabel('Day', fontsize=16)\n",
        "plt.show()"
      ],
      "execution_count": 98,
      "outputs": [
        {
          "output_type": "display_data",
          "data": {
            "image/png": "[encoded data removed]",
            "text/plain": [
              "<Figure size 720x576 with 1 Axes>"
            ]
          },
          "metadata": {
            "tags": []
          }
        }
      ]
    },
    {
      "cell_type": "markdown",
      "metadata": {
        "id": "8TCh13H1e5SL"
      },
      "source": [
        "## Problem Statement\n",
        "A Sales director at Bluecar Auto claims  that Bluecars are taken higher on average on Sundays as compared to Mondays.\n",
        "This, he claims, is because on Sundays, more people are free to hire a car as compared to a busy workday like Monday.\n",
        "\n",
        "I am supposed to state hypotheses on this claim and try to test whether actually more Bluecars are taken on average on Sundays than Mondays. \n",
        "\n",
        "The results will help the Sales and Marketing Dept. improve facilities aimed at ensuring more Bluecars are at better conditions are made available on Sundays."
      ]
    },
    {
      "cell_type": "code",
      "metadata": {
        "colab": {
          "base_uri": "https://localhost:8080/"
        },
        "id": "oOIlhNxr69yJ",
        "outputId": "ad6d3d72-bf6e-4ef7-ce7a-9c9a7d2e300e"
      },
      "source": [
        "data = newdf[(newdf['days'] == 'Mon')]\n",
        "data['BlueCarstakensum'].describe()"
      ],
      "execution_count": 99,
      "outputs": [
        {
          "output_type": "execute_result",
          "data": {
            "text/plain": [
              "count    1525.000000\n",
              "mean       43.665574\n",
              "std        41.976148\n",
              "min         0.000000\n",
              "25%        14.000000\n",
              "50%        30.000000\n",
              "75%        58.000000\n",
              "max       281.000000\n",
              "Name: BlueCarstakensum, dtype: float64"
            ]
          },
          "metadata": {
            "tags": []
          },
          "execution_count": 99
        }
      ]
    },
    {
      "cell_type": "markdown",
      "metadata": {
        "id": "s0PbxlPDrSR0"
      },
      "source": [
        "## Step 1: Specify the Null Hypothesis\n",
        "The null hypothesis (H0) is a statement of no effect, relationship, or difference between the average of Blue Cars taken on Sunday and Monday. \n",
        "\n",
        "Null Hypothesis : The average of Bluecars taken on Sunday is same to those taken on Monday.Any differences are as a result of Chance.\n",
        "\n",
        "H(0) : m = 43.665  \n",
        "\n",
        "the Population Standard Deviation is also known, 41.9761"
      ]
    },
    {
      "cell_type": "markdown",
      "metadata": {
        "id": "wAUxIMEusedy"
      },
      "source": [
        "## Step 2: Specify the Alternative Hypothesis\n",
        "The alternative hypothesis (H1) is the statement that there is an effect or difference between Average number of Bluecars taken on Monday and on Sunday.\n",
        "For us, we are taking a right tailed test where we say that there is a higher average number of Bluecars taken on Sunday than on Monday.\n",
        "\n",
        "Alternative Hypothesis : Average Number of Blue Cars taken on Sunday is higher than thoe taken on Monday and the higher number  is not by chance.\n",
        "\n",
        "H(1) : m > 43.665"
      ]
    },
    {
      "cell_type": "markdown",
      "metadata": {
        "id": "DaepaPyLuFgD"
      },
      "source": [
        "## Step 3: Set the Significance Level (alpha)\n",
        "Now that we have formulated our hypothesis, we state the significance level. For this case, we set it at 0.05.\n",
        "\n",
        "alpha = 0.05\n",
        "\n",
        "This means that there is a 5% chance that I will accept the alternative hypothesis when my null hypothesis is actually true. (5 % chance of making a type 1 error )"
      ]
    },
    {
      "cell_type": "markdown",
      "metadata": {
        "id": "cRckAyPmvGN-"
      },
      "source": [
        "## Data Description\n",
        "Now we step back a bit to describe the data we are testing. The population (target) data is made of 9873 rows of data. \n",
        "\n",
        "Now, we are going to use a simple random sampling procedure inorder to ensure data points picked are random.\n",
        "\n",
        "We are going to select a random sample of about 5% that is; 500 rows of data. This will help us make an inference about the population."
      ]
    },
    {
      "cell_type": "code",
      "metadata": {
        "colab": {
          "base_uri": "https://localhost:8080/"
        },
        "id": "ZLALKqClvACJ",
        "outputId": "bb2d17f5-2b22-4553-96a4-8a610666d38b"
      },
      "source": [
        "#first lets get data that only contains records for  Sunday\n",
        "#This will be our Population\n",
        "mydf = newdf[(newdf['days'] == 'Sun')]\n",
        "mydf['days'].value_counts()"
      ],
      "execution_count": 108,
      "outputs": [
        {
          "output_type": "execute_result",
          "data": {
            "text/plain": [
              "Sun    1564\n",
              "Name: days, dtype: int64"
            ]
          },
          "metadata": {
            "tags": []
          },
          "execution_count": 108
        }
      ]
    },
    {
      "cell_type": "code",
      "metadata": {
        "colab": {
          "base_uri": "https://localhost:8080/"
        },
        "id": "0XtyLwU-1WSt",
        "outputId": "71733a5e-14f2-4719-c79a-afc3b87a717e"
      },
      "source": [
        "mydf.shape"
      ],
      "execution_count": 101,
      "outputs": [
        {
          "output_type": "execute_result",
          "data": {
            "text/plain": [
              "(1564, 14)"
            ]
          },
          "metadata": {
            "tags": []
          },
          "execution_count": 101
        }
      ]
    },
    {
      "cell_type": "code",
      "metadata": {
        "colab": {
          "base_uri": "https://localhost:8080/",
          "height": 626
        },
        "id": "MzLvOS7h2jHc",
        "outputId": "ba7f9818-9995-4ba7-b821-97830b7d56a1"
      },
      "source": [
        "#Now, selecting a Simple Random Sample from this data will be\n",
        "# Selecting the sample \n",
        "mysample = mydf.sample(n = 100, replace=\"False\")\n",
        "mysample\n"
      ],
      "execution_count": 109,
      "outputs": [
        {
          "output_type": "execute_result",
          "data": {
            "text/html": [
              "<div>\n",
              "<style scoped>\n",
              "    .dataframe tbody tr th:only-of-type {\n",
              "        vertical-align: middle;\n",
              "    }\n",
              "\n",
              "    .dataframe tbody tr th {\n",
              "        vertical-align: top;\n",
              "    }\n",
              "\n",
              "    .dataframe thead th {\n",
              "        text-align: right;\n",
              "    }\n",
              "</style>\n",
              "<table border=\"1\" class=\"dataframe\">\n",
              "  <thead>\n",
              "    <tr style=\"text-align: right;\">\n",
              "      <th></th>\n",
              "      <th>Postal code</th>\n",
              "      <th>date</th>\n",
              "      <th>datapoints</th>\n",
              "      <th>dayOfWeek</th>\n",
              "      <th>daytype</th>\n",
              "      <th>BlueCarstakensum</th>\n",
              "      <th>BlueCarsreturnedsum</th>\n",
              "      <th>Utilib_taken_sum</th>\n",
              "      <th>Utilib_returned_sum</th>\n",
              "      <th>Utilib_14_taken_sum</th>\n",
              "      <th>Utilib_14_returned_sum</th>\n",
              "      <th>Slots_freed_sum</th>\n",
              "      <th>Slots_taken_sum</th>\n",
              "      <th>days</th>\n",
              "    </tr>\n",
              "  </thead>\n",
              "  <tbody>\n",
              "    <tr>\n",
              "      <th>13136</th>\n",
              "      <td>94100</td>\n",
              "      <td>2018-01-14</td>\n",
              "      <td>1440</td>\n",
              "      <td>6</td>\n",
              "      <td>weekend</td>\n",
              "      <td>10</td>\n",
              "      <td>10</td>\n",
              "      <td>0</td>\n",
              "      <td>0</td>\n",
              "      <td>0</td>\n",
              "      <td>0</td>\n",
              "      <td>0</td>\n",
              "      <td>0</td>\n",
              "      <td>Sun</td>\n",
              "    </tr>\n",
              "    <tr>\n",
              "      <th>13819</th>\n",
              "      <td>94140</td>\n",
              "      <td>2018-03-18</td>\n",
              "      <td>1440</td>\n",
              "      <td>6</td>\n",
              "      <td>weekend</td>\n",
              "      <td>65</td>\n",
              "      <td>74</td>\n",
              "      <td>5</td>\n",
              "      <td>5</td>\n",
              "      <td>4</td>\n",
              "      <td>4</td>\n",
              "      <td>0</td>\n",
              "      <td>0</td>\n",
              "      <td>Sun</td>\n",
              "    </tr>\n",
              "    <tr>\n",
              "      <th>15430</th>\n",
              "      <td>94700</td>\n",
              "      <td>2018-05-20</td>\n",
              "      <td>1440</td>\n",
              "      <td>6</td>\n",
              "      <td>weekend</td>\n",
              "      <td>29</td>\n",
              "      <td>27</td>\n",
              "      <td>1</td>\n",
              "      <td>0</td>\n",
              "      <td>2</td>\n",
              "      <td>5</td>\n",
              "      <td>0</td>\n",
              "      <td>0</td>\n",
              "      <td>Sun</td>\n",
              "    </tr>\n",
              "    <tr>\n",
              "      <th>13989</th>\n",
              "      <td>94150</td>\n",
              "      <td>2018-04-01</td>\n",
              "      <td>1440</td>\n",
              "      <td>6</td>\n",
              "      <td>weekend</td>\n",
              "      <td>21</td>\n",
              "      <td>13</td>\n",
              "      <td>0</td>\n",
              "      <td>0</td>\n",
              "      <td>2</td>\n",
              "      <td>1</td>\n",
              "      <td>2</td>\n",
              "      <td>1</td>\n",
              "      <td>Sun</td>\n",
              "    </tr>\n",
              "    <tr>\n",
              "      <th>6494</th>\n",
              "      <td>92230</td>\n",
              "      <td>2018-04-15</td>\n",
              "      <td>1439</td>\n",
              "      <td>6</td>\n",
              "      <td>weekend</td>\n",
              "      <td>54</td>\n",
              "      <td>54</td>\n",
              "      <td>5</td>\n",
              "      <td>5</td>\n",
              "      <td>4</td>\n",
              "      <td>5</td>\n",
              "      <td>0</td>\n",
              "      <td>0</td>\n",
              "      <td>Sun</td>\n",
              "    </tr>\n",
              "    <tr>\n",
              "      <th>...</th>\n",
              "      <td>...</td>\n",
              "      <td>...</td>\n",
              "      <td>...</td>\n",
              "      <td>...</td>\n",
              "      <td>...</td>\n",
              "      <td>...</td>\n",
              "      <td>...</td>\n",
              "      <td>...</td>\n",
              "      <td>...</td>\n",
              "      <td>...</td>\n",
              "      <td>...</td>\n",
              "      <td>...</td>\n",
              "      <td>...</td>\n",
              "      <td>...</td>\n",
              "    </tr>\n",
              "    <tr>\n",
              "      <th>7349</th>\n",
              "      <td>92300</td>\n",
              "      <td>2018-01-21</td>\n",
              "      <td>1440</td>\n",
              "      <td>6</td>\n",
              "      <td>weekend</td>\n",
              "      <td>189</td>\n",
              "      <td>207</td>\n",
              "      <td>4</td>\n",
              "      <td>5</td>\n",
              "      <td>5</td>\n",
              "      <td>4</td>\n",
              "      <td>0</td>\n",
              "      <td>0</td>\n",
              "      <td>Sun</td>\n",
              "    </tr>\n",
              "    <tr>\n",
              "      <th>13210</th>\n",
              "      <td>94100</td>\n",
              "      <td>2018-04-01</td>\n",
              "      <td>1440</td>\n",
              "      <td>6</td>\n",
              "      <td>weekend</td>\n",
              "      <td>8</td>\n",
              "      <td>6</td>\n",
              "      <td>0</td>\n",
              "      <td>0</td>\n",
              "      <td>0</td>\n",
              "      <td>0</td>\n",
              "      <td>0</td>\n",
              "      <td>0</td>\n",
              "      <td>Sun</td>\n",
              "    </tr>\n",
              "    <tr>\n",
              "      <th>9154</th>\n",
              "      <td>92410</td>\n",
              "      <td>2018-05-06</td>\n",
              "      <td>1439</td>\n",
              "      <td>6</td>\n",
              "      <td>weekend</td>\n",
              "      <td>15</td>\n",
              "      <td>13</td>\n",
              "      <td>0</td>\n",
              "      <td>0</td>\n",
              "      <td>0</td>\n",
              "      <td>0</td>\n",
              "      <td>0</td>\n",
              "      <td>0</td>\n",
              "      <td>Sun</td>\n",
              "    </tr>\n",
              "    <tr>\n",
              "      <th>15555</th>\n",
              "      <td>94800</td>\n",
              "      <td>2018-04-08</td>\n",
              "      <td>1440</td>\n",
              "      <td>6</td>\n",
              "      <td>weekend</td>\n",
              "      <td>114</td>\n",
              "      <td>124</td>\n",
              "      <td>1</td>\n",
              "      <td>1</td>\n",
              "      <td>8</td>\n",
              "      <td>8</td>\n",
              "      <td>0</td>\n",
              "      <td>0</td>\n",
              "      <td>Sun</td>\n",
              "    </tr>\n",
              "    <tr>\n",
              "      <th>10196</th>\n",
              "      <td>93110</td>\n",
              "      <td>2018-03-18</td>\n",
              "      <td>1440</td>\n",
              "      <td>6</td>\n",
              "      <td>weekend</td>\n",
              "      <td>42</td>\n",
              "      <td>40</td>\n",
              "      <td>1</td>\n",
              "      <td>2</td>\n",
              "      <td>2</td>\n",
              "      <td>2</td>\n",
              "      <td>0</td>\n",
              "      <td>0</td>\n",
              "      <td>Sun</td>\n",
              "    </tr>\n",
              "  </tbody>\n",
              "</table>\n",
              "<p>100 rows × 14 columns</p>\n",
              "</div>"
            ],
            "text/plain": [
              "       Postal code       date  ...  Slots_taken_sum  days\n",
              "13136        94100 2018-01-14  ...                0   Sun\n",
              "13819        94140 2018-03-18  ...                0   Sun\n",
              "15430        94700 2018-05-20  ...                0   Sun\n",
              "13989        94150 2018-04-01  ...                1   Sun\n",
              "6494         92230 2018-04-15  ...                0   Sun\n",
              "...            ...        ...  ...              ...   ...\n",
              "7349         92300 2018-01-21  ...                0   Sun\n",
              "13210        94100 2018-04-01  ...                0   Sun\n",
              "9154         92410 2018-05-06  ...                0   Sun\n",
              "15555        94800 2018-04-08  ...                0   Sun\n",
              "10196        93110 2018-03-18  ...                0   Sun\n",
              "\n",
              "[100 rows x 14 columns]"
            ]
          },
          "metadata": {
            "tags": []
          },
          "execution_count": 109
        }
      ]
    },
    {
      "cell_type": "markdown",
      "metadata": {
        "id": "YZZ4RQhp-IvD"
      },
      "source": [
        "## Hypothesis Testing Computation\n",
        "\n",
        "Now, since I have the population Variance and the n > 30, I opt to use the Z- Statistic as my test statistic.\n",
        "\n",
        "This is shown below."
      ]
    },
    {
      "cell_type": "markdown",
      "metadata": {
        "id": "MR6UxWbW_8W4"
      },
      "source": [
        "Calculate the Test Statistic"
      ]
    },
    {
      "cell_type": "code",
      "metadata": {
        "colab": {
          "base_uri": "https://localhost:8080/"
        },
        "id": "P1IuD0gw9_Py",
        "outputId": "e6d3d33d-0dce-4b94-c1c0-02a272b09ab9"
      },
      "source": [
        "#First get the Sample mean\n",
        "mymean = mysample['BlueCarstakensum'].mean()\n",
        "mymean"
      ],
      "execution_count": 110,
      "outputs": [
        {
          "output_type": "execute_result",
          "data": {
            "text/plain": [
              "56.39"
            ]
          },
          "metadata": {
            "tags": []
          },
          "execution_count": 110
        }
      ]
    },
    {
      "cell_type": "code",
      "metadata": {
        "colab": {
          "base_uri": "https://localhost:8080/"
        },
        "id": "BuhtLgCG_Pca",
        "outputId": "4cf31b0f-c626-4fd8-8a48-f61d028af418"
      },
      "source": [
        "#since we have :\n",
        "# population mean = 43.67 \n",
        "#Population standard deviation = 41.97\n",
        "z_stat = ( mymean - 43.67 ) / 41.97\n",
        "z_stat\n",
        "print('Test Statistic is : ',z_stat)"
      ],
      "execution_count": 112,
      "outputs": [
        {
          "output_type": "stream",
          "text": [
            "Test Statistic is :  0.3030736240171551\n"
          ],
          "name": "stdout"
        }
      ]
    },
    {
      "cell_type": "markdown",
      "metadata": {
        "id": "m9gbtzjzGr9F"
      },
      "source": [
        "## Construct Confidence Interval"
      ]
    },
    {
      "cell_type": "code",
      "metadata": {
        "colab": {
          "base_uri": "https://localhost:8080/"
        },
        "id": "E-33B5VwGyJP",
        "outputId": "ef8cd277-f2f9-49f1-fbfe-373bfcf353a1"
      },
      "source": [
        "#get 95% confidence interval\n",
        "lower = 43.67 - (z_stat * 41.97 / np.sqrt(100))\n",
        "upper = 43.67 + (z_stat * 41.97 / np.sqrt(100))\n",
        "print('Confidence Interval is ',lower,'<=',43.67,'<=',upper)"
      ],
      "execution_count": 113,
      "outputs": [
        {
          "output_type": "stream",
          "text": [
            "Confidence Interval is  42.398 <= 43.67 <= 44.942\n"
          ],
          "name": "stdout"
        }
      ]
    },
    {
      "cell_type": "markdown",
      "metadata": {
        "id": "uJ8N2tpgJ9x6"
      },
      "source": [
        "## P-Value computation"
      ]
    },
    {
      "cell_type": "markdown",
      "metadata": {
        "id": "v9qrVxw7BoDe"
      },
      "source": [
        "Now get the Asscociated P- Value for the Test Statistic"
      ]
    },
    {
      "cell_type": "code",
      "metadata": {
        "colab": {
          "base_uri": "https://localhost:8080/"
        },
        "id": "YENmUuuGAuzZ",
        "outputId": "93edeab6-e4bc-4cee-db94-6beff61537f2"
      },
      "source": [
        "#get p value for a one tailed test statistic\n",
        "from scipy import stats\n",
        "p_value = stats.norm.sf(abs(z_stat))\n",
        "print('P Value is : ',p_value)"
      ],
      "execution_count": 114,
      "outputs": [
        {
          "output_type": "stream",
          "text": [
            "P Value is :  0.3809168771949904\n"
          ],
          "name": "stdout"
        }
      ]
    },
    {
      "cell_type": "markdown",
      "metadata": {
        "id": "LxsRZwgKC2go"
      },
      "source": [
        "Acceptance /Rejection Decision "
      ]
    },
    {
      "cell_type": "code",
      "metadata": {
        "colab": {
          "base_uri": "https://localhost:8080/"
        },
        "id": "XML8qwSiCAfR",
        "outputId": "369a9512-229d-4268-8102-dc274888ad79"
      },
      "source": [
        "alpha =  0.05\n",
        "if p_value  < alpha:\n",
        "  print('Reject Null Hypothesis')\n",
        "else:\n",
        "  print('Fail to reject Null Hypothesis')"
      ],
      "execution_count": 115,
      "outputs": [
        {
          "output_type": "stream",
          "text": [
            "Fail to reject Null Hypothesis\n"
          ],
          "name": "stdout"
        }
      ]
    },
    {
      "cell_type": "markdown",
      "metadata": {
        "id": "ba1gsvdnDHjL"
      },
      "source": [
        "## Hypothesis Testing Interpretation\n",
        "From the comparison between the p value and the significance level above, we fail to reject the null hypothesis.\n",
        "\n",
        "This means that we can conclude that there is no enough evidence to disprove that the average number of Bluecars taken on Monday is different from that Taken on Sunday. We therefore have no proof for the alternative and thus fail to reject the Null hypothesis."
      ]
    }
  ]
}